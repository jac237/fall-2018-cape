{
 "cells": [
  {
   "cell_type": "markdown",
   "metadata": {},
   "source": [
    "# Fall 2018 - Course and Professor Evaluations (CAPE)"
   ]
  },
  {
   "cell_type": "code",
   "execution_count": 1,
   "metadata": {},
   "outputs": [],
   "source": [
    "# ---------IMPORTS---------\n",
    "import numpy as np\n",
    "from datascience import *\n",
    "%matplotlib inline\n",
    "import matplotlib.pyplot as plt\n",
    "plt.style.use('fivethirtyeight')"
   ]
  },
  {
   "cell_type": "markdown",
   "metadata": {},
   "source": [
    "## Reading in a Table"
   ]
  },
  {
   "cell_type": "markdown",
   "metadata": {},
   "source": [
    "We can create an instance of a `Table` (`datascience.tables`) with the [Table()](http://data8.org/datascience/_autosummary/datascience.tables.Table.__init__.html#datascience.tables.Table.__init__) method and fill our table with data from the `fall_18_cape.csv` comma-separated values (CSV) file using the [read_table()](http://data8.org/datascience/_autosummary/datascience.tables.Table.read_table.html#datascience.tables.Table.read_table) method:\n",
    "> `Table.read_table(filepath_or_buffer, *args, **vargs)`\n",
    ">\n",
    "> Read a table from a file or web address.\n",
    ">\n",
    "> * filepath_or_buffer – string or file handle / StringIO; The string could be a URL. Valid URL schemes include http, ftp, s3, and file.\n",
    "\n",
    "Here is an example of what a `.csv` file might look like:\n",
    "\n",
    "![(CSV) Excel vs TextEdit](./images/csv_comparison.jpg)"
   ]
  },
  {
   "cell_type": "code",
   "execution_count": 2,
   "metadata": {},
   "outputs": [
    {
     "data": {
      "text/html": [
       "<table border=\"1\" class=\"dataframe\">\n",
       "    <thead>\n",
       "        <tr>\n",
       "            <th>Course No</th> <th>Section</th> <th>Instructor</th> <th>Enrollment</th> <th>Responses</th> <th>Percent</th>\n",
       "        </tr>\n",
       "    </thead>\n",
       "    <tbody>\n",
       "        <tr>\n",
       "            <td>AIP 197T </td> <td>A00    </td> <td>Wienhausen, Gabriele     </td> <td>8         </td> <td>2        </td> <td>25.00% </td>\n",
       "        </tr>\n",
       "        <tr>\n",
       "            <td>ANAR 113 </td> <td>A00    </td> <td>Ben-Yosef, Erez          </td> <td>19        </td> <td>11       </td> <td>57.89% </td>\n",
       "        </tr>\n",
       "        <tr>\n",
       "            <td>ANAR 146 </td> <td>A00    </td> <td>D'Alpoim Guedes, Jade A  </td> <td>39        </td> <td>17       </td> <td>43.59% </td>\n",
       "        </tr>\n",
       "        <tr>\n",
       "            <td>ANBI 100 </td> <td>A00    </td> <td>Marchetto, Maria Carolina</td> <td>25        </td> <td>23       </td> <td>92.00% </td>\n",
       "        </tr>\n",
       "        <tr>\n",
       "            <td>ANBI 134 </td> <td>A00    </td> <td>Non, Amy L               </td> <td>30        </td> <td>16       </td> <td>53.33% </td>\n",
       "        </tr>\n",
       "        <tr>\n",
       "            <td>ANBI 135 </td> <td>A01    </td> <td>Non, Amy L               </td> <td>11        </td> <td>7        </td> <td>63.64% </td>\n",
       "        </tr>\n",
       "        <tr>\n",
       "            <td>ANBI 159 </td> <td>A00    </td> <td>Lew, Caroline Horton     </td> <td>45        </td> <td>25       </td> <td>55.56% </td>\n",
       "        </tr>\n",
       "        <tr>\n",
       "            <td>ANSC 100 </td> <td>A00    </td> <td>Goodman, Yehuda Chaim    </td> <td>12        </td> <td>4        </td> <td>33.33% </td>\n",
       "        </tr>\n",
       "        <tr>\n",
       "            <td>ANSC 100 </td> <td>C00    </td> <td>Jenkins, Janis A.        </td> <td>11        </td> <td>5        </td> <td>45.45% </td>\n",
       "        </tr>\n",
       "        <tr>\n",
       "            <td>ANSC 105 </td> <td>A00    </td> <td>Saravia, Paula F         </td> <td>20        </td> <td>17       </td> <td>85.00% </td>\n",
       "        </tr>\n",
       "    </tbody>\n",
       "</table>\n",
       "<p>... (3179 rows omitted)</p>"
      ],
      "text/plain": [
       "Course No | Section | Instructor                | Enrollment | Responses | Percent\n",
       "AIP 197T  | A00     | Wienhausen, Gabriele      | 8          | 2         | 25.00%\n",
       "ANAR 113  | A00     | Ben-Yosef, Erez           | 19         | 11        | 57.89%\n",
       "ANAR 146  | A00     | D'Alpoim Guedes, Jade A   | 39         | 17        | 43.59%\n",
       "ANBI 100  | A00     | Marchetto, Maria Carolina | 25         | 23        | 92.00%\n",
       "ANBI 134  | A00     | Non, Amy L                | 30         | 16        | 53.33%\n",
       "ANBI 135  | A01     | Non, Amy L                | 11         | 7         | 63.64%\n",
       "ANBI 159  | A00     | Lew, Caroline Horton      | 45         | 25        | 55.56%\n",
       "ANSC 100  | A00     | Goodman, Yehuda Chaim     | 12         | 4         | 33.33%\n",
       "ANSC 100  | C00     | Jenkins, Janis A.         | 11         | 5         | 45.45%\n",
       "ANSC 105  | A00     | Saravia, Paula F          | 20         | 17        | 85.00%\n",
       "... (3179 rows omitted)"
      ]
     },
     "execution_count": 2,
     "metadata": {},
     "output_type": "execute_result"
    }
   ],
   "source": [
    "table = Table().read_table('./data/fall_18_cape.csv')\n",
    "\n",
    "# Print out our newly created table.\n",
    "table"
   ]
  },
  {
   "cell_type": "markdown",
   "metadata": {},
   "source": [
    "Number of rows and columns in our Table"
   ]
  },
  {
   "cell_type": "code",
   "execution_count": 3,
   "metadata": {},
   "outputs": [
    {
     "name": "stdout",
     "output_type": "stream",
     "text": [
      "# of rows: 3189\n",
      "# of columns: 6\n"
     ]
    }
   ],
   "source": [
    "print('# of rows:', table.num_rows)\n",
    "print('# of columns:', table.num_columns)"
   ]
  },
  {
   "cell_type": "markdown",
   "metadata": {},
   "source": [
    "Python uses 0-based indexing so lets print out the last valid row entry just for fun. :)"
   ]
  },
  {
   "cell_type": "code",
   "execution_count": 4,
   "metadata": {},
   "outputs": [
    {
     "data": {
      "text/plain": [
       "Row(Course No='WCWP 10B', Section='4', Instructor='Gagnon, Jeffrey C', Enrollment=15, Responses=4, Percent='26.67%')"
      ]
     },
     "execution_count": 4,
     "metadata": {},
     "output_type": "execute_result"
    }
   ],
   "source": [
    "table.row(table.num_rows - 1)"
   ]
  },
  {
   "cell_type": "code",
   "execution_count": 5,
   "metadata": {},
   "outputs": [
    {
     "name": "stdout",
     "output_type": "stream",
     "text": [
      "The command 'table.row(table.num_rows)' produced an error!\n"
     ]
    }
   ],
   "source": [
    "try:\n",
    "    table.row(table.num_rows)\n",
    "except:\n",
    "    print(\"The command 'table.row(table.num_rows)' produced an error!\")"
   ]
  },
  {
   "cell_type": "markdown",
   "metadata": {},
   "source": [
    "## Counting the Number of Departments"
   ]
  },
  {
   "cell_type": "markdown",
   "metadata": {},
   "source": [
    "### Question 1\n",
    "\n",
    "The first question that comes to my mind is:\n",
    "> Q1: How many departments at UCSD offered any courses during the Fall 2018 quarter?"
   ]
  },
  {
   "cell_type": "markdown",
   "metadata": {},
   "source": [
    "### Question 2\n",
    "\n",
    "First, let us identity the unqiue number of courses offered *within* a specific department. (We will come back to Q1 later.)\n",
    "\n",
    "For example:\n",
    "> Q2: How many Math courses where offered during the Fall 2018 Quarter.\n",
    "\n",
    "The `datascience.tables.Table` class contains the [where](http://data8.org/datascience/_autosummary/datascience.tables.Table.where.html#datascience.tables.Table.where) function that lets us query information about our table using [predicates](http://data8.org/datascience/predicates.html).\n",
    "\n",
    "We can call the `where` function on our variable `table` with the predicate `are.containing(substring)` to return a *new* table with only the rows that contain `substring` as a substring in a specific column.\n",
    "\n",
    "**Note**: We cannot use the `are.equal_to(y)` predicate function since the **'Course No'** column, as shown above, contains a string of both the course department (MATH, CSE, etc.) and the course number (100, 20C, etc.) and clearly the string 'MATH' does **not** equal to 'MATH 100A'."
   ]
  },
  {
   "cell_type": "code",
   "execution_count": 6,
   "metadata": {},
   "outputs": [
    {
     "data": {
      "text/html": [
       "<table border=\"1\" class=\"dataframe\">\n",
       "    <thead>\n",
       "        <tr>\n",
       "            <th>Course No</th> <th>Section</th> <th>Instructor</th> <th>Enrollment</th> <th>Responses</th> <th>Percent</th>\n",
       "        </tr>\n",
       "    </thead>\n",
       "    <tbody>\n",
       "        <tr>\n",
       "            <td>MATH 100A</td> <td>A01    </td> <td>Popescu, Cristian D.</td> <td>28        </td> <td>17       </td> <td>60.71% </td>\n",
       "        </tr>\n",
       "        <tr>\n",
       "            <td>MATH 100A</td> <td>A02    </td> <td>Popescu, Cristian D.</td> <td>21        </td> <td>10       </td> <td>47.62% </td>\n",
       "        </tr>\n",
       "        <tr>\n",
       "            <td>MATH 100A</td> <td>A03    </td> <td>Popescu, Cristian D.</td> <td>23        </td> <td>9        </td> <td>39.13% </td>\n",
       "        </tr>\n",
       "        <tr>\n",
       "            <td>MATH 100A</td> <td>B01    </td> <td>Varma, Ila K        </td> <td>27        </td> <td>6        </td> <td>22.22% </td>\n",
       "        </tr>\n",
       "        <tr>\n",
       "            <td>MATH 102 </td> <td>A01    </td> <td>Green, Nathan E     </td> <td>33        </td> <td>13       </td> <td>39.39% </td>\n",
       "        </tr>\n",
       "        <tr>\n",
       "            <td>MATH 102 </td> <td>A02    </td> <td>Green, Nathan E     </td> <td>30        </td> <td>7        </td> <td>23.33% </td>\n",
       "        </tr>\n",
       "        <tr>\n",
       "            <td>MATH 102 </td> <td>A03    </td> <td>Green, Nathan E     </td> <td>33        </td> <td>15       </td> <td>45.45% </td>\n",
       "        </tr>\n",
       "        <tr>\n",
       "            <td>MATH 102 </td> <td>A04    </td> <td>Green, Nathan E     </td> <td>32        </td> <td>13       </td> <td>40.63% </td>\n",
       "        </tr>\n",
       "        <tr>\n",
       "            <td>MATH 102 </td> <td>A05    </td> <td>Green, Nathan E     </td> <td>29        </td> <td>14       </td> <td>48.28% </td>\n",
       "        </tr>\n",
       "        <tr>\n",
       "            <td>MATH 102 </td> <td>A06    </td> <td>Green, Nathan E     </td> <td>29        </td> <td>12       </td> <td>41.38% </td>\n",
       "        </tr>\n",
       "    </tbody>\n",
       "</table>\n",
       "<p>... (368 rows omitted)</p>"
      ],
      "text/plain": [
       "Course No | Section | Instructor           | Enrollment | Responses | Percent\n",
       "MATH 100A | A01     | Popescu, Cristian D. | 28         | 17        | 60.71%\n",
       "MATH 100A | A02     | Popescu, Cristian D. | 21         | 10        | 47.62%\n",
       "MATH 100A | A03     | Popescu, Cristian D. | 23         | 9         | 39.13%\n",
       "MATH 100A | B01     | Varma, Ila K         | 27         | 6         | 22.22%\n",
       "MATH 102  | A01     | Green, Nathan E      | 33         | 13        | 39.39%\n",
       "MATH 102  | A02     | Green, Nathan E      | 30         | 7         | 23.33%\n",
       "MATH 102  | A03     | Green, Nathan E      | 33         | 15        | 45.45%\n",
       "MATH 102  | A04     | Green, Nathan E      | 32         | 13        | 40.63%\n",
       "MATH 102  | A05     | Green, Nathan E      | 29         | 14        | 48.28%\n",
       "MATH 102  | A06     | Green, Nathan E      | 29         | 12        | 41.38%\n",
       "... (368 rows omitted)"
      ]
     },
     "execution_count": 6,
     "metadata": {},
     "output_type": "execute_result"
    }
   ],
   "source": [
    "math_table = table.where('Course No', are.containing('MATH'))\n",
    "\n",
    "# Print out our newly created table.\n",
    "math_table"
   ]
  },
  {
   "cell_type": "markdown",
   "metadata": {},
   "source": [
    "Here we see all the rows that have 'MATH' as a subtring in the 'Course No' column. However, as shown above, there are duplicates since there can be different professors teaching the same course. Furthermore, courses are broken down into smaller sections (A01, B02, etc.) in order to distinguish between different discussion sections. This means that we need to find a way to remove the duplicates in our table.\n",
    "\n",
    "Fortunately, the [numpy](https://www.numpy.org/) package contains the [numpy.unique](https://docs.scipy.org/doc/numpy-1.15.0/reference/generated/numpy.unique.html) function:\n",
    "> `numpy.unique(ar, return_index=False, return_inverse=False, return_counts=False, axis=None)`\n",
    ">\n",
    "> Find the unique elements of an array.  \n",
    "> * Returns:\n",
    "    * The sorted unique elements of an array.\n",
    "> * There are three optional outputs in addition to the unique elements: \n",
    "    * the indices of the input array that give the unique values\n",
    "    * the indices of the unique array that reconstruct the input array\n",
    "    * the number of times each unique value comes up in the input array"
   ]
  },
  {
   "cell_type": "markdown",
   "metadata": {},
   "source": [
    "Let us use the `numpy.unique` function to identity the number of unique courses offered within the Math department. The [numpy.ndarray](https://docs.scipy.org/doc/numpy-1.15.0/reference/arrays.ndarray.html) class has the [numpy.ndarray.size](https://docs.scipy.org/doc/numpy-1.15.0/reference/generated/numpy.ndarray.size.html) attribute that returns the number of elements in our 1-dimensional array.\n",
    "\n",
    "Note that we saved our new table as `math_table` after calling the `where` function on our original `table`."
   ]
  },
  {
   "cell_type": "markdown",
   "metadata": {},
   "source": [
    "### Answer: Question 2"
   ]
  },
  {
   "cell_type": "code",
   "execution_count": 7,
   "metadata": {
    "scrolled": true
   },
   "outputs": [
    {
     "name": "stdout",
     "output_type": "stream",
     "text": [
      "There were 35 unique math courses offered at UCSD during the Fall 2018 Quarter:\n",
      "\n",
      "['MATH 100A' 'MATH 102' 'MATH 103A' 'MATH 104A' 'MATH 109' 'MATH 10A'\n",
      " 'MATH 10B' 'MATH 10C' 'MATH 11' 'MATH 110A' 'MATH 111A' 'MATH 120A'\n",
      " 'MATH 140A' 'MATH 142A' 'MATH 150A' 'MATH 153' 'MATH 157' 'MATH 170A'\n",
      " 'MATH 174' 'MATH 18' 'MATH 180A' 'MATH 181B' 'MATH 183' 'MATH 184A'\n",
      " 'MATH 2' 'MATH 20A' 'MATH 20B' 'MATH 20C' 'MATH 20D' 'MATH 20E'\n",
      " 'MATH 31AH' 'MATH 3C' 'MATH 4C' 'MATH 87' 'MATH 96']\n"
     ]
    }
   ],
   "source": [
    "# 1. Get the 'Course No' column as an array from our math table.\n",
    "math_course_column = math_table.column('Course No')\n",
    "\n",
    "# 2. Get the unique math course numbers.\n",
    "unique_math_courses = np.unique(math_course_column)\n",
    "\n",
    "# 3. Print results.\n",
    "print(\"There were\", unique_math_courses.size, \"unique math courses offered at UCSD during the Fall 2018 Quarter:\\n\")\n",
    "\n",
    "print(unique_math_courses)"
   ]
  },
  {
   "cell_type": "markdown",
   "metadata": {},
   "source": [
    "### Question 3\n",
    "\n",
    "Now that we understand the issues we had to overcome in Q2, we are ready to answer another question:\n",
    "> Q3: How many unique courses, under *any* department, were offered during the Fall 2018 quarter?\n",
    "\n",
    "Answering this question will further guide our understanding to solving our orignal question from earlier (Q1)."
   ]
  },
  {
   "cell_type": "markdown",
   "metadata": {},
   "source": [
    "Similarly, we get the 'Course No' column but this time from our original `table` and call the `numpy.unique` function on the colum array.\n",
    "\n",
    "**Note**: Since we expect there to be *many* different unique courses offered this fall quarter, we will only print out up to `print_limit` elements in our array."
   ]
  },
  {
   "cell_type": "markdown",
   "metadata": {},
   "source": [
    "### Answer: Question 3"
   ]
  },
  {
   "cell_type": "code",
   "execution_count": 8,
   "metadata": {},
   "outputs": [
    {
     "name": "stdout",
     "output_type": "stream",
     "text": [
      "There were 901 unique courses offered at UCSD during the Fall 2018 Quarter:\n",
      "\n",
      "Here are the first 35:\n",
      "['AIP 197T' 'ANAR 113' 'ANAR 146' 'ANBI 100' 'ANBI 134' 'ANBI 135'\n",
      " 'ANBI 159' 'ANSC 100' 'ANSC 105' 'ANSC 106' 'ANSC 118' 'ANSC 146'\n",
      " 'ANSC 148' 'ANSC 175' 'ANTH 101' 'ANTH 196A' 'ANTH 21' 'ANTH 23' 'ANTH 3'\n",
      " 'ANTH 87' 'AWP 1' 'AWP 2A' 'AWP 2B' 'BENG 110' 'BENG 119A' 'BENG 122A'\n",
      " 'BENG 126A' 'BENG 127A' 'BENG 128A' 'BENG 134' 'BENG 135' 'BENG 141'\n",
      " 'BENG 147A' 'BENG 148A' 'BENG 149A']\n"
     ]
    }
   ],
   "source": [
    "# 1. Get the 'Course No' column from our table.\n",
    "courses_column = table.column('Course No')\n",
    "\n",
    "# 2. Store the unique course numbers\n",
    "unique_courses = np.unique(courses_column)\n",
    "\n",
    "# 3. Print results.\n",
    "print(\"There were\", unique_courses.size, \"unique courses offered at UCSD during the Fall 2018 Quarter:\\n\")\n",
    "\n",
    "# Print out only a certain number of unique courses.\n",
    "print_limit = 35\n",
    "print('Here are the first ', print_limit, \":\\n\", unique_courses[0:print_limit], sep='')"
   ]
  },
  {
   "cell_type": "markdown",
   "metadata": {},
   "source": [
    "### Question 1 (Revisited)"
   ]
  },
  {
   "cell_type": "markdown",
   "metadata": {},
   "source": [
    "Now that we have solved Q2 and Q3, we are ready to tackle Q1:\n",
    "> Q1: How many departments offered any courses during the Fall 2018 quarter?\n",
    "\n",
    "We know that we have to remove the duplicates from our 'Course No' column and then call the `numpy.unique` function on our array of course departments.\n",
    "\n",
    "However, 'MATH 100A' and 'MATH 20D' would not be considered the same, even though they are from the same department. This means that we have to somehow parse the department of each entry in the 'Course No' column. How can we do this? "
   ]
  },
  {
   "cell_type": "markdown",
   "metadata": {},
   "source": [
    "Luckily, we have the [apply](http://data8.org/datascience/_autosummary/datascience.tables.Table.apply.html#datascience.tables.Table.apply) method for Tables:\n",
    "> `Table.apply(fn, *column_or_columns)`\n",
    ">\n",
    "> Apply fn to each element or elements of column_or_columns. If no column_or_columns provided, fn is applied to each row.  \n",
    "> * Returns:\n",
    "    * An array consisting of results of applying fn to elements specified by column_label in each row.\n",
    "> * Args:\n",
    "    * fn (function) – The function to apply. column_or_columns: Columns containing the arguments to fn as either column labels (str) or column indices (int). The number of columns must match the number of arguments that fn expects."
   ]
  },
  {
   "cell_type": "markdown",
   "metadata": {},
   "source": [
    "* First, we must create a function, call it `A`, that is able to **split strings** of the form 'MATH 100A' for each entry in the 'Course No' column to get 'MATH'.\n",
    "* We will pass in our function `A` to the `apply()` function which will return an array of all the departments.\n",
    "* Then we must call the `numpy.unique` function, since 'MATH 100A' and 'MATH 20B' will both return the string 'MATH'."
   ]
  },
  {
   "cell_type": "markdown",
   "metadata": {},
   "source": [
    "## Splitting Strings"
   ]
  },
  {
   "cell_type": "markdown",
   "metadata": {},
   "source": [
    "Strings in python have the `str.split()` function:\n",
    ">`str.split(sep=None, maxsplit=-1)`\n",
    ">\n",
    "> Return a list of the words in the string, using sep as the delimiter string.\n",
    "> * If maxsplit is given, at most maxsplit splits are done (thus, the list will have at most maxsplit+1 elements).\n",
    "> * If maxsplit is not specified or -1, then there is no limit on the number of splits (all possible splits are made).\n",
    ">\n",
    "> * If sep is given, consecutive delimiters are not grouped together and are deemed to delimit empty strings (for example, '1,,2'.split(',') returns ['1', '', '2']). The sep argument may consist of multiple characters (for example, '1<>2<>3'.split('<>') returns ['1', '2', '3']). Splitting an empty string with a specified separator returns [''].\n",
    "> * If sep is not specified or is None, a different splitting algorithm is applied: runs of consecutive whitespace are regarded as a single separator, and the result will contain no empty strings at the start or end if the string has leading or trailing whitespace."
   ]
  },
  {
   "cell_type": "markdown",
   "metadata": {},
   "source": [
    "### Examples of `split()` function"
   ]
  },
  {
   "cell_type": "code",
   "execution_count": 9,
   "metadata": {},
   "outputs": [
    {
     "name": "stdout",
     "output_type": "stream",
     "text": [
      "['ONE1', 'TWO1', 'THREE1']\n",
      "['ONE1', 'TWO1', 'THREE1']\n",
      "['ON', '1 TWO1 THR', '', '1']\n",
      "['ONE', ' TWO', ' THREE', '']\n",
      "ONE1\n",
      "TWO1\n",
      "THREE1\n"
     ]
    }
   ],
   "source": [
    "test_string = \"ONE1 TWO1 THREE1\"\n",
    "\n",
    "# Split into an array based on delimiter.\n",
    "\n",
    "print(test_string.split())\n",
    "\n",
    "print(test_string.split(' ')) # Same as previous call\n",
    "\n",
    "print(test_string.split('E'))\n",
    "\n",
    "print(test_string.split('1'))\n",
    "\n",
    "# Returning index value from splitted array.\n",
    "\n",
    "print(test_string.split()[0])\n",
    "\n",
    "print(test_string.split()[1])\n",
    "\n",
    "print(test_string.split()[2])"
   ]
  },
  {
   "cell_type": "markdown",
   "metadata": {},
   "source": [
    "### Planning our parsing function\n",
    "* We will create a function named `parse_course_no()` that takes two arguments, a `string` and an `index`:\n",
    "    * The `string` variable will hold each entry in the 'Course No' column.\n",
    "    * The `index` variable will have a default value of 0 which represents what value in our array, returned by `split()`, we will return.\n",
    "* Since the entries in the 'Course No' column are seperated by a space, we do not have to specify sep.\n",
    "\n",
    "**Note**: Python uses 0-based indexing so `array[0]` returns the first value in an array called `array`. We would like to add this option in the case that we would like to know the the second value in our array (i.e. Is the course an upper/lower division course?)."
   ]
  },
  {
   "cell_type": "code",
   "execution_count": 10,
   "metadata": {},
   "outputs": [],
   "source": [
    "def parse_course_no(string, index = 0):\n",
    "    '''\n",
    "    \n",
    "    Given a string of the format 'MATH 100A', we split the string using\n",
    "    the split method which returns an array. Depending on the index\n",
    "    value passed in, we return the value for that index in the array.\n",
    "    \n",
    "    >>> parse_course_no('MATH 100A') # Default index value = 0.\n",
    "    'MATH'\n",
    "    \n",
    "    >>> parse_course_no('MATH 100A', 0) # Same as previous call.\n",
    "    'MATH'\n",
    "    \n",
    "    >>> parse_course_no('MATH 100A', 1) # Return value at index 1.\n",
    "    '100A'\n",
    "    \n",
    "    '''\n",
    "    string_array = string.split()\n",
    "    index_value = string_array[index]\n",
    "    return index_value"
   ]
  },
  {
   "cell_type": "markdown",
   "metadata": {},
   "source": [
    "Now that we have define our `parse_course_no()` function, let us make sure that it works."
   ]
  },
  {
   "cell_type": "markdown",
   "metadata": {},
   "source": [
    "### Testing `parse_course_no()` function"
   ]
  },
  {
   "cell_type": "code",
   "execution_count": 11,
   "metadata": {},
   "outputs": [
    {
     "name": "stdout",
     "output_type": "stream",
     "text": [
      "MATH\n",
      "MATH\n",
      "100A\n"
     ]
    }
   ],
   "source": [
    "sample_string = 'MATH 100A'\n",
    "\n",
    "print(parse_course_no(sample_string))\n",
    "\n",
    "print(parse_course_no(sample_string, 0))\n",
    "\n",
    "print(parse_course_no(sample_string, 1))"
   ]
  },
  {
   "cell_type": "markdown",
   "metadata": {},
   "source": [
    "### Answer: Question 1"
   ]
  },
  {
   "cell_type": "markdown",
   "metadata": {},
   "source": [
    "Now let us call the `apply()` function on our variable `table` with the `parse_course_no()` function and the 'Course No' column name as arguments."
   ]
  },
  {
   "cell_type": "code",
   "execution_count": 12,
   "metadata": {},
   "outputs": [
    {
     "name": "stdout",
     "output_type": "stream",
     "text": [
      "There were 104 departments that offered courses during the Fall 2018 Quarter:\n",
      "\n",
      "Here are the first 50:\n",
      "['AIP' 'ANAR' 'ANBI' 'ANSC' 'ANTH' 'AWP' 'BENG' 'BIBC' 'BICD' 'BIEB'\n",
      " 'BILD' 'BIMM' 'BIPN' 'BISP' 'CAT' 'CENG' 'CGS' 'CHEM' 'CHIN' 'COGS'\n",
      " 'COMM' 'CSE' 'DOC' 'DSC' 'DSGN' 'ECE' 'ECON' 'EDS' 'ENG' 'ENVR' 'ERC'\n",
      " 'ESYS' 'ETHN' 'FILM' 'FMPH' 'GLBH' 'HDP' 'HIAF' 'HIEA' 'HIEU' 'HILA'\n",
      " 'HILD' 'HINE' 'HISC' 'HITO' 'HIUS' 'HUM' 'INTL' 'JAPN' 'JUDA']\n"
     ]
    }
   ],
   "source": [
    "# 1. Parse the course departments from the table.\n",
    "course_departments = table.apply(parse_course_no, 'Course No')\n",
    "\n",
    "# 2. Get the unique departments.\n",
    "unique_departments = np.unique(course_departments)\n",
    "\n",
    "# 3. Print results.\n",
    "print(\"There were\", unique_departments.size, \"departments that offered courses during the Fall 2018 Quarter:\\n\")\n",
    "\n",
    "print_limit = 50\n",
    "print('Here are the first ', print_limit, \":\\n\", unique_departments[0:print_limit], sep='')"
   ]
  },
  {
   "cell_type": "markdown",
   "metadata": {},
   "source": [
    "## Number of Professors"
   ]
  },
  {
   "cell_type": "markdown",
   "metadata": {},
   "source": [
    "### Question 4\n",
    "\n",
    "Another question to ask is about the number of instructors/professors who taught at UCSD this past quarter.\n",
    "\n",
    "> Q4: How many professors taught at UCSD during the Fall 2018 Quarter?"
   ]
  },
  {
   "cell_type": "markdown",
   "metadata": {},
   "source": [
    "### Answer: Question 4\n",
    "Similarly, we will get the 'Instructor' column from our `table` and call the `np.unique` function."
   ]
  },
  {
   "cell_type": "code",
   "execution_count": 13,
   "metadata": {},
   "outputs": [
    {
     "name": "stdout",
     "output_type": "stream",
     "text": [
      "There were 841 professors who taught at UCSD during the Fall 2018 Quarter:\n",
      "\n",
      "Here are the first 20:\n",
      "['Abi Samra, Nicholas Camill' 'Abrajano, Marisa' 'Adida, Claire'\n",
      " 'Agler, Jim' 'Ajo, Frances Margaret' 'Alac, Morana' 'Albizati, Kim F.'\n",
      " 'Alicio, Atilio' 'Allen, Andrew Ellis' 'Allen, Bobbie M' 'Allen, Eric'\n",
      " 'Allos, Haytham Issa' 'Aluwihare, Lihini' 'Alvarado, Christine J.'\n",
      " 'Amaddeo, Carmen N.' 'Anagnostaras, Stephan' 'Anagnostopoulos, G. H.'\n",
      " 'Anderson, Cheryl' 'Anderson, John Charles' 'Anderson, Kenneth']\n"
     ]
    }
   ],
   "source": [
    "# 1. Get the 'Instructor' column from our table.\n",
    "instructor_column = table.column('Instructor')\n",
    "\n",
    "# 2. Store the unique course numbers\n",
    "unique_instructors = np.unique(instructor_column)\n",
    "\n",
    "# 3. Print results \n",
    "print(\"There were\", unique_instructors.size, \"professors who taught at UCSD during the Fall 2018 Quarter:\\n\")\n",
    "\n",
    "print_limit = 20\n",
    "print('Here are the first ', print_limit, \":\\n\", unique_instructors[0:print_limit], sep='')"
   ]
  },
  {
   "cell_type": "markdown",
   "metadata": {},
   "source": [
    "### Question 5"
   ]
  },
  {
   "cell_type": "markdown",
   "metadata": {},
   "source": [
    "We found the total number of professor who taught this quarter but now we would like to partition the professors based on the departments each professor taught for.\n",
    "\n",
    "> Q5: How many professors taught for each department during the Fall 2018 Quarter?"
   ]
  },
  {
   "cell_type": "markdown",
   "metadata": {},
   "source": [
    "### ---- Ideas ----\n",
    "\n",
    "1. For each *professor* in the 'Instructor' column:\n",
    "    * Find what department they correspond to (`parse_course_no`).\n",
    "    * Add that department column to create a new table ([with_column](http://data8.org/datascience/_autosummary/datascience.tables.Table.with_columns.html#datascience.tables.Table.with_columns)).\n",
    "    * Name that new column 'Department' and the new table `modified_table`.\n",
    "2. For each *department* in `unique_departments`:\n",
    "    * Call the `where` function on each *department*.\n",
    "    * Get the unique number of instructors per department (`numpy.unique`)."
   ]
  },
  {
   "cell_type": "code",
   "execution_count": 14,
   "metadata": {},
   "outputs": [
    {
     "data": {
      "text/html": [
       "<table border=\"1\" class=\"dataframe\">\n",
       "    <thead>\n",
       "        <tr>\n",
       "            <th>Course No</th> <th>Section</th> <th>Instructor</th> <th>Enrollment</th> <th>Responses</th> <th>Percent</th> <th>Department</th>\n",
       "        </tr>\n",
       "    </thead>\n",
       "    <tbody>\n",
       "        <tr>\n",
       "            <td>AIP 197T </td> <td>A00    </td> <td>Wienhausen, Gabriele     </td> <td>8         </td> <td>2        </td> <td>25.00% </td> <td>AIP       </td>\n",
       "        </tr>\n",
       "        <tr>\n",
       "            <td>ANAR 113 </td> <td>A00    </td> <td>Ben-Yosef, Erez          </td> <td>19        </td> <td>11       </td> <td>57.89% </td> <td>ANAR      </td>\n",
       "        </tr>\n",
       "        <tr>\n",
       "            <td>ANAR 146 </td> <td>A00    </td> <td>D'Alpoim Guedes, Jade A  </td> <td>39        </td> <td>17       </td> <td>43.59% </td> <td>ANAR      </td>\n",
       "        </tr>\n",
       "        <tr>\n",
       "            <td>ANBI 100 </td> <td>A00    </td> <td>Marchetto, Maria Carolina</td> <td>25        </td> <td>23       </td> <td>92.00% </td> <td>ANBI      </td>\n",
       "        </tr>\n",
       "        <tr>\n",
       "            <td>ANBI 134 </td> <td>A00    </td> <td>Non, Amy L               </td> <td>30        </td> <td>16       </td> <td>53.33% </td> <td>ANBI      </td>\n",
       "        </tr>\n",
       "        <tr>\n",
       "            <td>ANBI 135 </td> <td>A01    </td> <td>Non, Amy L               </td> <td>11        </td> <td>7        </td> <td>63.64% </td> <td>ANBI      </td>\n",
       "        </tr>\n",
       "        <tr>\n",
       "            <td>ANBI 159 </td> <td>A00    </td> <td>Lew, Caroline Horton     </td> <td>45        </td> <td>25       </td> <td>55.56% </td> <td>ANBI      </td>\n",
       "        </tr>\n",
       "        <tr>\n",
       "            <td>ANSC 100 </td> <td>A00    </td> <td>Goodman, Yehuda Chaim    </td> <td>12        </td> <td>4        </td> <td>33.33% </td> <td>ANSC      </td>\n",
       "        </tr>\n",
       "        <tr>\n",
       "            <td>ANSC 100 </td> <td>C00    </td> <td>Jenkins, Janis A.        </td> <td>11        </td> <td>5        </td> <td>45.45% </td> <td>ANSC      </td>\n",
       "        </tr>\n",
       "        <tr>\n",
       "            <td>ANSC 105 </td> <td>A00    </td> <td>Saravia, Paula F         </td> <td>20        </td> <td>17       </td> <td>85.00% </td> <td>ANSC      </td>\n",
       "        </tr>\n",
       "    </tbody>\n",
       "</table>\n",
       "<p>... (3179 rows omitted)</p>"
      ],
      "text/plain": [
       "Course No | Section | Instructor                | Enrollment | Responses | Percent | Department\n",
       "AIP 197T  | A00     | Wienhausen, Gabriele      | 8          | 2         | 25.00%  | AIP\n",
       "ANAR 113  | A00     | Ben-Yosef, Erez           | 19         | 11        | 57.89%  | ANAR\n",
       "ANAR 146  | A00     | D'Alpoim Guedes, Jade A   | 39         | 17        | 43.59%  | ANAR\n",
       "ANBI 100  | A00     | Marchetto, Maria Carolina | 25         | 23        | 92.00%  | ANBI\n",
       "ANBI 134  | A00     | Non, Amy L                | 30         | 16        | 53.33%  | ANBI\n",
       "ANBI 135  | A01     | Non, Amy L                | 11         | 7         | 63.64%  | ANBI\n",
       "ANBI 159  | A00     | Lew, Caroline Horton      | 45         | 25        | 55.56%  | ANBI\n",
       "ANSC 100  | A00     | Goodman, Yehuda Chaim     | 12         | 4         | 33.33%  | ANSC\n",
       "ANSC 100  | C00     | Jenkins, Janis A.         | 11         | 5         | 45.45%  | ANSC\n",
       "ANSC 105  | A00     | Saravia, Paula F          | 20         | 17        | 85.00%  | ANSC\n",
       "... (3179 rows omitted)"
      ]
     },
     "execution_count": 14,
     "metadata": {},
     "output_type": "execute_result"
    }
   ],
   "source": [
    "# 1. Create the new table\n",
    "modified_table = table.with_column(\n",
    "    'Department', table.apply(parse_course_no, 'Course No')\n",
    ")\n",
    "\n",
    "# 2. Dsiplay newly created table\n",
    "modified_table"
   ]
  },
  {
   "cell_type": "markdown",
   "metadata": {},
   "source": [
    "We will use the [numpy.append](https://docs.scipy.org/doc/numpy/reference/generated/numpy.append.html#numpy.append) function to continually add values to our array `instruct_counts` that keeps track of the number of instructors per department."
   ]
  },
  {
   "cell_type": "markdown",
   "metadata": {},
   "source": [
    "### Answer: Question 5"
   ]
  },
  {
   "cell_type": "code",
   "execution_count": 15,
   "metadata": {},
   "outputs": [
    {
     "data": {
      "text/html": [
       "<table border=\"1\" class=\"dataframe\">\n",
       "    <thead>\n",
       "        <tr>\n",
       "            <th>Department</th> <th>Number of Instructors</th>\n",
       "        </tr>\n",
       "    </thead>\n",
       "    <tbody>\n",
       "        <tr>\n",
       "            <td>AIP       </td> <td>1                    </td>\n",
       "        </tr>\n",
       "        <tr>\n",
       "            <td>ANAR      </td> <td>2                    </td>\n",
       "        </tr>\n",
       "        <tr>\n",
       "            <td>ANBI      </td> <td>3                    </td>\n",
       "        </tr>\n",
       "        <tr>\n",
       "            <td>ANSC      </td> <td>7                    </td>\n",
       "        </tr>\n",
       "        <tr>\n",
       "            <td>ANTH      </td> <td>6                    </td>\n",
       "        </tr>\n",
       "        <tr>\n",
       "            <td>AWP       </td> <td>31                   </td>\n",
       "        </tr>\n",
       "        <tr>\n",
       "            <td>BENG      </td> <td>12                   </td>\n",
       "        </tr>\n",
       "        <tr>\n",
       "            <td>BIBC      </td> <td>8                    </td>\n",
       "        </tr>\n",
       "        <tr>\n",
       "            <td>BICD      </td> <td>5                    </td>\n",
       "        </tr>\n",
       "        <tr>\n",
       "            <td>BIEB      </td> <td>7                    </td>\n",
       "        </tr>\n",
       "    </tbody>\n",
       "</table>\n",
       "<p>... (94 rows omitted)</p>"
      ],
      "text/plain": [
       "Department | Number of Instructors\n",
       "AIP        | 1\n",
       "ANAR       | 2\n",
       "ANBI       | 3\n",
       "ANSC       | 7\n",
       "ANTH       | 6\n",
       "AWP        | 31\n",
       "BENG       | 12\n",
       "BIBC       | 8\n",
       "BICD       | 5\n",
       "BIEB       | 7\n",
       "... (94 rows omitted)"
      ]
     },
     "execution_count": 15,
     "metadata": {},
     "output_type": "execute_result"
    }
   ],
   "source": [
    "# 1. Initialize array of instructor counts (per department).\n",
    "instructor_counts = make_array()\n",
    "\n",
    "# 2. Iterate through the list of unique departments (AQ1).\n",
    "for department in unique_departments:\n",
    "    \n",
    "    # 3. Call the where function with 'department' argument\n",
    "    temp_table = modified_table.where('Department', are.equal_to(department))\n",
    "    \n",
    "    # 4. Get the instructor column\n",
    "    instructor_column = temp_table.column('Instructor')\n",
    "    \n",
    "    # 5. Get the unique instructors\n",
    "    unique_instructors = np.unique(instructor_column)\n",
    "    \n",
    "    # 6. Append the array's size to our instruct_counts array.\n",
    "    instructor_counts = np.append(instructor_counts, unique_instructors.size)\n",
    "    \n",
    "# 7. Create a new table with two columns: Department and Number of Instructors (Per Department).\n",
    "department_table = Table().with_columns(\n",
    "    'Department', unique_departments,\n",
    "    'Number of Instructors', instructor_counts\n",
    ")\n",
    "\n",
    "# 8. Display table.\n",
    "department_table"
   ]
  },
  {
   "cell_type": "markdown",
   "metadata": {},
   "source": [
    "### Full Statistics: `instructor_counts`"
   ]
  },
  {
   "cell_type": "code",
   "execution_count": 16,
   "metadata": {},
   "outputs": [
    {
     "name": "stdout",
     "output_type": "stream",
     "text": [
      "Min: 1.0\n",
      "Max: 61.0\n",
      "Median: 4.0\n",
      "Mean: 8.817307692307692\n",
      "Std Dev: 10.697559411700592\n"
     ]
    }
   ],
   "source": [
    "print('Min:', np.min(instructor_counts))\n",
    "print('Max:', np.max(instructor_counts))\n",
    "print('Median:', np.median(instructor_counts))\n",
    "print('Mean:', np.mean(instructor_counts))\n",
    "print('Std Dev:', np.std(instructor_counts))"
   ]
  },
  {
   "cell_type": "markdown",
   "metadata": {},
   "source": [
    "### Histogram"
   ]
  },
  {
   "cell_type": "code",
   "execution_count": 17,
   "metadata": {},
   "outputs": [
    {
     "data": {
      "image/png": "[encoded data removed]",
      "text/plain": [
       "<Figure size 432x756 with 1 Axes>"
      ]
     },
     "metadata": {},
     "output_type": "display_data"
    }
   ],
   "source": [
    "# 1. Sort the table in decreasing order of Number of Instructors.\n",
    "sorted_department_table = department_table.sort('Number of Instructors', descending=True)\n",
    "\n",
    "# 2. Drop the entries with fewer than X instructors per department.\n",
    "min_instructors = 15\n",
    "sorted_dropped_table = sorted_department_table.where('Number of Instructors', are.above_or_equal_to(min_instructors))\n",
    "\n",
    "# 3. Display histogram horizontally: barh(y-axis, x-axis).\n",
    "sorted_dropped_table.barh('Department', 'Number of Instructors')"
   ]
  },
  {
   "cell_type": "markdown",
   "metadata": {},
   "source": [
    "### Matplotlib - Pie Chart"
   ]
  },
  {
   "cell_type": "markdown",
   "metadata": {},
   "source": [
    "```python\n",
    "# ----------------------EXAMPLE----------------------\n",
    "# Source: https://pythonspot.com/matplotlib-pie-chart/\n",
    "\n",
    "import matplotlib.pyplot as plt\n",
    " \n",
    "# Data to plot\n",
    "labels = 'Python', 'C++', 'Ruby', 'Java'\n",
    "sizes = [215, 130, 245, 210]\n",
    "colors = ['gold', 'yellowgreen', 'lightcoral', 'lightskyblue']\n",
    "explode = (0.1, 0, 0, 0)  # explode 1st slice\n",
    " \n",
    "# Plot\n",
    "plt.pie(sizes, explode=explode, labels=labels, colors=colors,\n",
    "        autopct='%1.1f%%', shadow=True, startangle=140)\n",
    " \n",
    "plt.axis('equal')\n",
    "plt.show()\n",
    "```\n",
    "\n",
    "![Example Pie Char](./images/example_pie_chart.png)"
   ]
  },
  {
   "cell_type": "markdown",
   "metadata": {},
   "source": [
    "### Visualizing # of Professors per Department"
   ]
  },
  {
   "cell_type": "code",
   "execution_count": 18,
   "metadata": {},
   "outputs": [
    {
     "data": {
      "image/png": "[encoded data removed]",
      "text/plain": [
       "<Figure size 432x288 with 1 Axes>"
      ]
     },
     "metadata": {},
     "output_type": "display_data"
    }
   ],
   "source": [
    "# 1. Drop the value with fewer than X instructors per department.\n",
    "min_instructors = 20\n",
    "sorted_dropped_table = sorted_department_table.where('Number of Instructors', are.above_or_equal_to(min_instructors))\n",
    "\n",
    "# 2. Data to plot.\n",
    "labels = sorted_dropped_table.column('Department')\n",
    "sizes = sorted_dropped_table.column('Number of Instructors')\n",
    " \n",
    "# 3. Plot\n",
    "plt.pie(sizes, labels=labels, shadow=True, startangle=140)\n",
    "plt.axis('equal')\n",
    "plt.show()"
   ]
  }
 ],
 "metadata": {
  "kernelspec": {
   "display_name": "Python 3",
   "language": "python",
   "name": "python3"
  },
  "language_info": {
   "codemirror_mode": {
    "name": "ipython",
    "version": 3
   },
   "file_extension": ".py",
   "mimetype": "text/x-python",
   "name": "python",
   "nbconvert_exporter": "python",
   "pygments_lexer": "ipython3",
   "version": "3.7.0"
  }
 },
 "nbformat": 4,
 "nbformat_minor": 2
}
